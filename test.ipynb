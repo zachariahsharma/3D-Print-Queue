{
 "cells": [
  {
   "cell_type": "code",
   "execution_count": 24,
   "id": "229f337d",
   "metadata": {},
   "outputs": [
    {
     "name": "stdout",
     "output_type": "stream",
     "text": [
      "Starting camera thread.\n",
      "True\n"
     ]
    },
    {
     "name": "stderr",
     "output_type": "stream",
     "text": [
      "ERROR:root:Error occurred: [Errno 60] Operation timed out\n"
     ]
    }
   ],
   "source": [
    "import bambulabs_api as bl\n",
    "import zipfile\n",
    "import time\n",
    "hostname = \"192.168.1.6\"\n",
    "access_code = \"25133451\"\n",
    "serial = \"0309CA4A0800457\"\n",
    "printer = bl.Printer(hostname, access_code, serial)\n",
    "printer.connect()\n",
    "time.sleep(2)\n",
    "with open('./sigma.3mf', \"rb\") as f:\n",
    "    printer.upload_file(f, f\"sigma.3mf\") \n",
    "# print(printer.get_state())\n",
    "print(printer.mqtt_client_ready())\n",
    "printer.start_print('sigma.3mf', plate_number=2, use_ams=False)\n",
    "# # printer.turn_light_off()\n",
    "# printer.home_printer()\n",
    "# print(printer.home_printer())\n",
    "printer.disconnect()"
   ]
  },
  {
   "cell_type": "code",
   "execution_count": null,
   "id": "b339b553",
   "metadata": {},
   "outputs": [],
   "source": [
    "def gcode_files_in_3mf(\n",
    "        zipfile_path: str) -> list[str]:\n",
    "    \"\"\"\n",
    "    Get the gcodefiles in the 3mf.\n",
    "\n",
    "    Args:\n",
    "        zipfile_path (str): location of the text file.\n",
    "\n",
    "    Returns:\n",
    "        list[str]: first gcode file, or None if not found\n",
    "    \"\"\"\n",
    "    zf = zipfile.ZipFile(zipfile_path)\n",
    "\n",
    "    nl = zf.namelist()\n",
    "    # print(nl)\n",
    "    return [n for n in nl if n.endswith(\".gcode\") and n.startswith(\"Metadata/plate_\")]  # noqa: E501\n",
    "gcode_location = next(\n",
    "        (i for i in gcode_files_in_3mf('sigma.3mf')), None)"
   ]
  },
  {
   "cell_type": "code",
   "execution_count": 9,
   "id": "6de76276",
   "metadata": {},
   "outputs": [
    {
     "data": {
      "text/plain": [
       "'Metadata/plate_2.gcode'"
      ]
     },
     "execution_count": 9,
     "metadata": {},
     "output_type": "execute_result"
    }
   ],
   "source": [
    "gcode_location"
   ]
  },
  {
   "cell_type": "code",
   "execution_count": null,
   "id": "d7285a08",
   "metadata": {},
   "outputs": [],
   "source": []
  }
 ],
 "metadata": {
  "kernelspec": {
   "display_name": "base",
   "language": "python",
   "name": "python3"
  },
  "language_info": {
   "codemirror_mode": {
    "name": "ipython",
    "version": 3
   },
   "file_extension": ".py",
   "mimetype": "text/x-python",
   "name": "python",
   "nbconvert_exporter": "python",
   "pygments_lexer": "ipython3",
   "version": "3.12.2"
  }
 },
 "nbformat": 4,
 "nbformat_minor": 5
}
