{
 "cells": [
  {
   "cell_type": "code",
   "execution_count": 4,
   "id": "229f337d",
   "metadata": {},
   "outputs": [
    {
     "name": "stdout",
     "output_type": "stream",
     "text": [
      "Starting camera thread.\n"
     ]
    },
    {
     "name": "stderr",
     "output_type": "stream",
     "text": [
      "ERROR:root:Printer Values Not Available Yet\n",
      "ERROR:root:Not connected to the MQTT server\n"
     ]
    },
    {
     "name": "stdout",
     "output_type": "stream",
     "text": [
      "False\n",
      "None\n"
     ]
    },
    {
     "ename": "KeyboardInterrupt",
     "evalue": "",
     "output_type": "error",
     "traceback": [
      "\u001b[31m---------------------------------------------------------------------------\u001b[39m",
      "\u001b[31mKeyboardInterrupt\u001b[39m                         Traceback (most recent call last)",
      "\u001b[36mCell\u001b[39m\u001b[36m \u001b[39m\u001b[32mIn[4]\u001b[39m\u001b[32m, line 19\u001b[39m\n\u001b[32m     14\u001b[39m \u001b[38;5;66;03m# printer.start_print('sigma.3mf', plate_number=2, use_ams=False)\u001b[39;00m\n\u001b[32m     15\u001b[39m \u001b[38;5;66;03m# # printer.turn_light_off()\u001b[39;00m\n\u001b[32m     16\u001b[39m \u001b[38;5;66;03m# printer.home_printer()\u001b[39;00m\n\u001b[32m     17\u001b[39m \u001b[38;5;66;03m# print(printer.home_printer())\u001b[39;00m\n\u001b[32m     18\u001b[39m \u001b[38;5;28mprint\u001b[39m(printer.get_percentage())\n\u001b[32m---> \u001b[39m\u001b[32m19\u001b[39m \u001b[43mprinter\u001b[49m\u001b[43m.\u001b[49m\u001b[43mdisconnect\u001b[49m\u001b[43m(\u001b[49m\u001b[43m)\u001b[49m\n",
      "\u001b[36mFile \u001b[39m\u001b[32m~/miniconda3/lib/python3.12/site-packages/bambulabs_api/client.py:141\u001b[39m, in \u001b[36mPrinter.disconnect\u001b[39m\u001b[34m(self)\u001b[39m\n\u001b[32m    137\u001b[39m \u001b[38;5;250m\u001b[39m\u001b[33;03m\"\"\"\u001b[39;00m\n\u001b[32m    138\u001b[39m \u001b[33;03mDisconnect from the printer\u001b[39;00m\n\u001b[32m    139\u001b[39m \u001b[33;03m\"\"\"\u001b[39;00m\n\u001b[32m    140\u001b[39m \u001b[38;5;28mself\u001b[39m.mqtt_client.stop()\n\u001b[32m--> \u001b[39m\u001b[32m141\u001b[39m \u001b[38;5;28;43mself\u001b[39;49m\u001b[43m.\u001b[49m\u001b[43mcamera_client\u001b[49m\u001b[43m.\u001b[49m\u001b[43mstop\u001b[49m\u001b[43m(\u001b[49m\u001b[43m)\u001b[49m\n",
      "\u001b[36mFile \u001b[39m\u001b[32m~/miniconda3/lib/python3.12/site-packages/bambulabs_api/camera_client.py:56\u001b[39m, in \u001b[36mPrinterCamera.stop\u001b[39m\u001b[34m(self)\u001b[39m\n\u001b[32m     52\u001b[39m \u001b[38;5;250m\u001b[39m\u001b[33;03m\"\"\"\u001b[39;00m\n\u001b[32m     53\u001b[39m \u001b[33;03mStop the camera client\u001b[39;00m\n\u001b[32m     54\u001b[39m \u001b[33;03m\"\"\"\u001b[39;00m\n\u001b[32m     55\u001b[39m \u001b[38;5;28mself\u001b[39m.alive = \u001b[38;5;28;01mFalse\u001b[39;00m\n\u001b[32m---> \u001b[39m\u001b[32m56\u001b[39m \u001b[38;5;28;43mself\u001b[39;49m\u001b[43m.\u001b[49m\u001b[43m__thread\u001b[49m\u001b[43m.\u001b[49m\u001b[43mjoin\u001b[49m\u001b[43m(\u001b[49m\u001b[43m)\u001b[49m\n",
      "\u001b[36mFile \u001b[39m\u001b[32m~/miniconda3/lib/python3.12/threading.py:1147\u001b[39m, in \u001b[36mThread.join\u001b[39m\u001b[34m(self, timeout)\u001b[39m\n\u001b[32m   1144\u001b[39m     \u001b[38;5;28;01mraise\u001b[39;00m \u001b[38;5;167;01mRuntimeError\u001b[39;00m(\u001b[33m\"\u001b[39m\u001b[33mcannot join current thread\u001b[39m\u001b[33m\"\u001b[39m)\n\u001b[32m   1146\u001b[39m \u001b[38;5;28;01mif\u001b[39;00m timeout \u001b[38;5;129;01mis\u001b[39;00m \u001b[38;5;28;01mNone\u001b[39;00m:\n\u001b[32m-> \u001b[39m\u001b[32m1147\u001b[39m     \u001b[38;5;28;43mself\u001b[39;49m\u001b[43m.\u001b[49m\u001b[43m_wait_for_tstate_lock\u001b[49m\u001b[43m(\u001b[49m\u001b[43m)\u001b[49m\n\u001b[32m   1148\u001b[39m \u001b[38;5;28;01melse\u001b[39;00m:\n\u001b[32m   1149\u001b[39m     \u001b[38;5;66;03m# the behavior of a negative timeout isn't documented, but\u001b[39;00m\n\u001b[32m   1150\u001b[39m     \u001b[38;5;66;03m# historically .join(timeout=x) for x<0 has acted as if timeout=0\u001b[39;00m\n\u001b[32m   1151\u001b[39m     \u001b[38;5;28mself\u001b[39m._wait_for_tstate_lock(timeout=\u001b[38;5;28mmax\u001b[39m(timeout, \u001b[32m0\u001b[39m))\n",
      "\u001b[36mFile \u001b[39m\u001b[32m~/miniconda3/lib/python3.12/threading.py:1167\u001b[39m, in \u001b[36mThread._wait_for_tstate_lock\u001b[39m\u001b[34m(self, block, timeout)\u001b[39m\n\u001b[32m   1164\u001b[39m     \u001b[38;5;28;01mreturn\u001b[39;00m\n\u001b[32m   1166\u001b[39m \u001b[38;5;28;01mtry\u001b[39;00m:\n\u001b[32m-> \u001b[39m\u001b[32m1167\u001b[39m     \u001b[38;5;28;01mif\u001b[39;00m \u001b[43mlock\u001b[49m\u001b[43m.\u001b[49m\u001b[43macquire\u001b[49m\u001b[43m(\u001b[49m\u001b[43mblock\u001b[49m\u001b[43m,\u001b[49m\u001b[43m \u001b[49m\u001b[43mtimeout\u001b[49m\u001b[43m)\u001b[49m:\n\u001b[32m   1168\u001b[39m         lock.release()\n\u001b[32m   1169\u001b[39m         \u001b[38;5;28mself\u001b[39m._stop()\n",
      "\u001b[31mKeyboardInterrupt\u001b[39m: "
     ]
    }
   ],
   "source": [
    "import bambulabs_api as bl\n",
    "import zipfile\n",
    "import time\n",
    "hostname = \"192.168.1.6\"\n",
    "access_code = \"25133451\"\n",
    "serial = \"0309CA4A0800457\"\n",
    "printer = bl.Printer(hostname, access_code, serial)\n",
    "printer.connect()\n",
    "time.sleep(2)\n",
    "# with open('./sigma.3mf', \"rb\") as f:\n",
    "#     printer.upload_file(f, f\"sigma.3mf\") \n",
    "# print(printer.get_state())\n",
    "print(printer.mqtt_client_ready())\n",
    "# printer.start_print('sigma.3mf', plate_number=2, use_ams=False)\n",
    "# # printer.turn_light_off()\n",
    "# printer.home_printer()\n",
    "# print(printer.home_printer())\n",
    "print(printer.get_percentage())\n",
    "printer.disconnect()"
   ]
  },
  {
   "cell_type": "code",
   "execution_count": null,
   "id": "b339b553",
   "metadata": {},
   "outputs": [],
   "source": [
    "def gcode_files_in_3mf(\n",
    "        zipfile_path: str) -> list[str]:\n",
    "    \"\"\"\n",
    "    Get the gcodefiles in the 3mf.\n",
    "\n",
    "    Args:\n",
    "        zipfile_path (str): location of the text file.\n",
    "\n",
    "    Returns:\n",
    "        list[str]: first gcode file, or None if not found\n",
    "    \"\"\"\n",
    "    zf = zipfile.ZipFile(zipfile_path)\n",
    "\n",
    "    nl = zf.namelist()\n",
    "    # print(nl)\n",
    "    return [n for n in nl if n.endswith(\".gcode\") and n.startswith(\"Metadata/plate_\")]  # noqa: E501\n",
    "gcode_location = next(\n",
    "        (i for i in gcode_files_in_3mf('sigma.3mf')), None)"
   ]
  },
  {
   "cell_type": "code",
   "execution_count": 9,
   "id": "6de76276",
   "metadata": {},
   "outputs": [
    {
     "data": {
      "text/plain": [
       "'Metadata/plate_2.gcode'"
      ]
     },
     "execution_count": 9,
     "metadata": {},
     "output_type": "execute_result"
    }
   ],
   "source": [
    "gcode_location"
   ]
  },
  {
   "cell_type": "code",
   "execution_count": null,
   "id": "d7285a08",
   "metadata": {},
   "outputs": [],
   "source": []
  }
 ],
 "metadata": {
  "kernelspec": {
   "display_name": "base",
   "language": "python",
   "name": "python3"
  },
  "language_info": {
   "codemirror_mode": {
    "name": "ipython",
    "version": 3
   },
   "file_extension": ".py",
   "mimetype": "text/x-python",
   "name": "python",
   "nbconvert_exporter": "python",
   "pygments_lexer": "ipython3",
   "version": "3.12.2"
  }
 },
 "nbformat": 4,
 "nbformat_minor": 5
}
